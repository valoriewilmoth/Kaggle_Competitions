{
 "cells": [
  {
   "cell_type": "code",
   "execution_count": 2,
   "metadata": {},
   "outputs": [
    {
     "data": {
      "application/javascript": [
       "IPython.OutputArea.prototype._should_scroll = function(lines) {\n",
       "    return false;\n",
       "}"
      ],
      "text/plain": [
       "<IPython.core.display.Javascript object>"
      ]
     },
     "metadata": {},
     "output_type": "display_data"
    }
   ],
   "source": [
    "%%javascript\n",
    "IPython.OutputArea.prototype._should_scroll = function(lines) {\n",
    "    return false;\n",
    "}"
   ]
  },
  {
   "cell_type": "code",
   "execution_count": 5,
   "metadata": {},
   "outputs": [],
   "source": [
    "%matplotlib inline\n",
    "import warnings\n",
    "warnings.filterwarnings('ignore')"
   ]
  },
  {
   "cell_type": "markdown",
   "metadata": {},
   "source": [
    "# Titanic:  Predicting Survival"
   ]
  },
  {
   "cell_type": "code",
   "execution_count": 6,
   "metadata": {},
   "outputs": [],
   "source": [
    "#import libraries\n",
    "\n",
    "import numpy as np\n",
    "import pandas as pd\n",
    "import matplotlib.pyplot as plt\n",
    "import seaborn as sns\n",
    "from copy import deepcopy\n",
    "from sklearn.linear_model import LogisticRegressionCV\n",
    "from sklearn.model_selection import train_test_split\n",
    "from sklearn.neighbors import KNeighborsRegressor\n",
    "from sklearn.preprocessing import StandardScaler \n",
    "from sklearn.preprocessing import PolynomialFeatures\n",
    "from sklearn.ensemble import RandomForestClassifier\n",
    "from sklearn.neural_network import MLPClassifier\n",
    "from sklearn.svm import LinearSVC, SVC\n",
    "from sklearn.feature_extraction import DictVectorizer\n",
    "from sklearn.preprocessing import OneHotEncoder\n",
    "from sklearn.preprocessing import LabelEncoder\n",
    "from sklearn.feature_selection import RFE\n",
    "\n",
    "from sklearn import model_selection\n",
    "from sklearn.model_selection import cross_val_score\n",
    "from sklearn.model_selection import GridSearchCV"
   ]
  },
  {
   "cell_type": "markdown",
   "metadata": {},
   "source": [
    "## 1. Load the data    "
   ]
  },
  {
   "cell_type": "code",
   "execution_count": 7,
   "metadata": {},
   "outputs": [
    {
     "data": {
      "text/html": [
       "<div>\n",
       "<style scoped>\n",
       "    .dataframe tbody tr th:only-of-type {\n",
       "        vertical-align: middle;\n",
       "    }\n",
       "\n",
       "    .dataframe tbody tr th {\n",
       "        vertical-align: top;\n",
       "    }\n",
       "\n",
       "    .dataframe thead th {\n",
       "        text-align: right;\n",
       "    }\n",
       "</style>\n",
       "<table border=\"1\" class=\"dataframe\">\n",
       "  <thead>\n",
       "    <tr style=\"text-align: right;\">\n",
       "      <th></th>\n",
       "      <th>Survived</th>\n",
       "      <th>Pclass</th>\n",
       "      <th>Name</th>\n",
       "      <th>Sex</th>\n",
       "      <th>Age</th>\n",
       "      <th>SibSp</th>\n",
       "      <th>Parch</th>\n",
       "      <th>Ticket</th>\n",
       "      <th>Fare</th>\n",
       "      <th>Cabin</th>\n",
       "      <th>Embarked</th>\n",
       "    </tr>\n",
       "    <tr>\n",
       "      <th>PassengerId</th>\n",
       "      <th></th>\n",
       "      <th></th>\n",
       "      <th></th>\n",
       "      <th></th>\n",
       "      <th></th>\n",
       "      <th></th>\n",
       "      <th></th>\n",
       "      <th></th>\n",
       "      <th></th>\n",
       "      <th></th>\n",
       "      <th></th>\n",
       "    </tr>\n",
       "  </thead>\n",
       "  <tbody>\n",
       "    <tr>\n",
       "      <th>1</th>\n",
       "      <td>0</td>\n",
       "      <td>3</td>\n",
       "      <td>Braund, Mr. Owen Harris</td>\n",
       "      <td>male</td>\n",
       "      <td>22.0</td>\n",
       "      <td>1</td>\n",
       "      <td>0</td>\n",
       "      <td>A/5 21171</td>\n",
       "      <td>7.2500</td>\n",
       "      <td>NaN</td>\n",
       "      <td>S</td>\n",
       "    </tr>\n",
       "    <tr>\n",
       "      <th>2</th>\n",
       "      <td>1</td>\n",
       "      <td>1</td>\n",
       "      <td>Cumings, Mrs. John Bradley (Florence Briggs Th...</td>\n",
       "      <td>female</td>\n",
       "      <td>38.0</td>\n",
       "      <td>1</td>\n",
       "      <td>0</td>\n",
       "      <td>PC 17599</td>\n",
       "      <td>71.2833</td>\n",
       "      <td>C85</td>\n",
       "      <td>C</td>\n",
       "    </tr>\n",
       "    <tr>\n",
       "      <th>3</th>\n",
       "      <td>1</td>\n",
       "      <td>3</td>\n",
       "      <td>Heikkinen, Miss. Laina</td>\n",
       "      <td>female</td>\n",
       "      <td>26.0</td>\n",
       "      <td>0</td>\n",
       "      <td>0</td>\n",
       "      <td>STON/O2. 3101282</td>\n",
       "      <td>7.9250</td>\n",
       "      <td>NaN</td>\n",
       "      <td>S</td>\n",
       "    </tr>\n",
       "    <tr>\n",
       "      <th>4</th>\n",
       "      <td>1</td>\n",
       "      <td>1</td>\n",
       "      <td>Futrelle, Mrs. Jacques Heath (Lily May Peel)</td>\n",
       "      <td>female</td>\n",
       "      <td>35.0</td>\n",
       "      <td>1</td>\n",
       "      <td>0</td>\n",
       "      <td>113803</td>\n",
       "      <td>53.1000</td>\n",
       "      <td>C123</td>\n",
       "      <td>S</td>\n",
       "    </tr>\n",
       "    <tr>\n",
       "      <th>5</th>\n",
       "      <td>0</td>\n",
       "      <td>3</td>\n",
       "      <td>Allen, Mr. William Henry</td>\n",
       "      <td>male</td>\n",
       "      <td>35.0</td>\n",
       "      <td>0</td>\n",
       "      <td>0</td>\n",
       "      <td>373450</td>\n",
       "      <td>8.0500</td>\n",
       "      <td>NaN</td>\n",
       "      <td>S</td>\n",
       "    </tr>\n",
       "    <tr>\n",
       "      <th>6</th>\n",
       "      <td>0</td>\n",
       "      <td>3</td>\n",
       "      <td>Moran, Mr. James</td>\n",
       "      <td>male</td>\n",
       "      <td>NaN</td>\n",
       "      <td>0</td>\n",
       "      <td>0</td>\n",
       "      <td>330877</td>\n",
       "      <td>8.4583</td>\n",
       "      <td>NaN</td>\n",
       "      <td>Q</td>\n",
       "    </tr>\n",
       "    <tr>\n",
       "      <th>7</th>\n",
       "      <td>0</td>\n",
       "      <td>1</td>\n",
       "      <td>McCarthy, Mr. Timothy J</td>\n",
       "      <td>male</td>\n",
       "      <td>54.0</td>\n",
       "      <td>0</td>\n",
       "      <td>0</td>\n",
       "      <td>17463</td>\n",
       "      <td>51.8625</td>\n",
       "      <td>E46</td>\n",
       "      <td>S</td>\n",
       "    </tr>\n",
       "    <tr>\n",
       "      <th>8</th>\n",
       "      <td>0</td>\n",
       "      <td>3</td>\n",
       "      <td>Palsson, Master. Gosta Leonard</td>\n",
       "      <td>male</td>\n",
       "      <td>2.0</td>\n",
       "      <td>3</td>\n",
       "      <td>1</td>\n",
       "      <td>349909</td>\n",
       "      <td>21.0750</td>\n",
       "      <td>NaN</td>\n",
       "      <td>S</td>\n",
       "    </tr>\n",
       "    <tr>\n",
       "      <th>9</th>\n",
       "      <td>1</td>\n",
       "      <td>3</td>\n",
       "      <td>Johnson, Mrs. Oscar W (Elisabeth Vilhelmina Berg)</td>\n",
       "      <td>female</td>\n",
       "      <td>27.0</td>\n",
       "      <td>0</td>\n",
       "      <td>2</td>\n",
       "      <td>347742</td>\n",
       "      <td>11.1333</td>\n",
       "      <td>NaN</td>\n",
       "      <td>S</td>\n",
       "    </tr>\n",
       "    <tr>\n",
       "      <th>10</th>\n",
       "      <td>1</td>\n",
       "      <td>2</td>\n",
       "      <td>Nasser, Mrs. Nicholas (Adele Achem)</td>\n",
       "      <td>female</td>\n",
       "      <td>14.0</td>\n",
       "      <td>1</td>\n",
       "      <td>0</td>\n",
       "      <td>237736</td>\n",
       "      <td>30.0708</td>\n",
       "      <td>NaN</td>\n",
       "      <td>C</td>\n",
       "    </tr>\n",
       "    <tr>\n",
       "      <th>11</th>\n",
       "      <td>1</td>\n",
       "      <td>3</td>\n",
       "      <td>Sandstrom, Miss. Marguerite Rut</td>\n",
       "      <td>female</td>\n",
       "      <td>4.0</td>\n",
       "      <td>1</td>\n",
       "      <td>1</td>\n",
       "      <td>PP 9549</td>\n",
       "      <td>16.7000</td>\n",
       "      <td>G6</td>\n",
       "      <td>S</td>\n",
       "    </tr>\n",
       "    <tr>\n",
       "      <th>12</th>\n",
       "      <td>1</td>\n",
       "      <td>1</td>\n",
       "      <td>Bonnell, Miss. Elizabeth</td>\n",
       "      <td>female</td>\n",
       "      <td>58.0</td>\n",
       "      <td>0</td>\n",
       "      <td>0</td>\n",
       "      <td>113783</td>\n",
       "      <td>26.5500</td>\n",
       "      <td>C103</td>\n",
       "      <td>S</td>\n",
       "    </tr>\n",
       "    <tr>\n",
       "      <th>13</th>\n",
       "      <td>0</td>\n",
       "      <td>3</td>\n",
       "      <td>Saundercock, Mr. William Henry</td>\n",
       "      <td>male</td>\n",
       "      <td>20.0</td>\n",
       "      <td>0</td>\n",
       "      <td>0</td>\n",
       "      <td>A/5. 2151</td>\n",
       "      <td>8.0500</td>\n",
       "      <td>NaN</td>\n",
       "      <td>S</td>\n",
       "    </tr>\n",
       "    <tr>\n",
       "      <th>14</th>\n",
       "      <td>0</td>\n",
       "      <td>3</td>\n",
       "      <td>Andersson, Mr. Anders Johan</td>\n",
       "      <td>male</td>\n",
       "      <td>39.0</td>\n",
       "      <td>1</td>\n",
       "      <td>5</td>\n",
       "      <td>347082</td>\n",
       "      <td>31.2750</td>\n",
       "      <td>NaN</td>\n",
       "      <td>S</td>\n",
       "    </tr>\n",
       "    <tr>\n",
       "      <th>15</th>\n",
       "      <td>0</td>\n",
       "      <td>3</td>\n",
       "      <td>Vestrom, Miss. Hulda Amanda Adolfina</td>\n",
       "      <td>female</td>\n",
       "      <td>14.0</td>\n",
       "      <td>0</td>\n",
       "      <td>0</td>\n",
       "      <td>350406</td>\n",
       "      <td>7.8542</td>\n",
       "      <td>NaN</td>\n",
       "      <td>S</td>\n",
       "    </tr>\n",
       "    <tr>\n",
       "      <th>16</th>\n",
       "      <td>1</td>\n",
       "      <td>2</td>\n",
       "      <td>Hewlett, Mrs. (Mary D Kingcome)</td>\n",
       "      <td>female</td>\n",
       "      <td>55.0</td>\n",
       "      <td>0</td>\n",
       "      <td>0</td>\n",
       "      <td>248706</td>\n",
       "      <td>16.0000</td>\n",
       "      <td>NaN</td>\n",
       "      <td>S</td>\n",
       "    </tr>\n",
       "    <tr>\n",
       "      <th>17</th>\n",
       "      <td>0</td>\n",
       "      <td>3</td>\n",
       "      <td>Rice, Master. Eugene</td>\n",
       "      <td>male</td>\n",
       "      <td>2.0</td>\n",
       "      <td>4</td>\n",
       "      <td>1</td>\n",
       "      <td>382652</td>\n",
       "      <td>29.1250</td>\n",
       "      <td>NaN</td>\n",
       "      <td>Q</td>\n",
       "    </tr>\n",
       "    <tr>\n",
       "      <th>18</th>\n",
       "      <td>1</td>\n",
       "      <td>2</td>\n",
       "      <td>Williams, Mr. Charles Eugene</td>\n",
       "      <td>male</td>\n",
       "      <td>NaN</td>\n",
       "      <td>0</td>\n",
       "      <td>0</td>\n",
       "      <td>244373</td>\n",
       "      <td>13.0000</td>\n",
       "      <td>NaN</td>\n",
       "      <td>S</td>\n",
       "    </tr>\n",
       "    <tr>\n",
       "      <th>19</th>\n",
       "      <td>0</td>\n",
       "      <td>3</td>\n",
       "      <td>Vander Planke, Mrs. Julius (Emelia Maria Vande...</td>\n",
       "      <td>female</td>\n",
       "      <td>31.0</td>\n",
       "      <td>1</td>\n",
       "      <td>0</td>\n",
       "      <td>345763</td>\n",
       "      <td>18.0000</td>\n",
       "      <td>NaN</td>\n",
       "      <td>S</td>\n",
       "    </tr>\n",
       "    <tr>\n",
       "      <th>20</th>\n",
       "      <td>1</td>\n",
       "      <td>3</td>\n",
       "      <td>Masselmani, Mrs. Fatima</td>\n",
       "      <td>female</td>\n",
       "      <td>NaN</td>\n",
       "      <td>0</td>\n",
       "      <td>0</td>\n",
       "      <td>2649</td>\n",
       "      <td>7.2250</td>\n",
       "      <td>NaN</td>\n",
       "      <td>C</td>\n",
       "    </tr>\n",
       "  </tbody>\n",
       "</table>\n",
       "</div>"
      ],
      "text/plain": [
       "             Survived  Pclass  \\\n",
       "PassengerId                     \n",
       "1                   0       3   \n",
       "2                   1       1   \n",
       "3                   1       3   \n",
       "4                   1       1   \n",
       "5                   0       3   \n",
       "6                   0       3   \n",
       "7                   0       1   \n",
       "8                   0       3   \n",
       "9                   1       3   \n",
       "10                  1       2   \n",
       "11                  1       3   \n",
       "12                  1       1   \n",
       "13                  0       3   \n",
       "14                  0       3   \n",
       "15                  0       3   \n",
       "16                  1       2   \n",
       "17                  0       3   \n",
       "18                  1       2   \n",
       "19                  0       3   \n",
       "20                  1       3   \n",
       "\n",
       "                                                          Name     Sex   Age  \\\n",
       "PassengerId                                                                    \n",
       "1                                      Braund, Mr. Owen Harris    male  22.0   \n",
       "2            Cumings, Mrs. John Bradley (Florence Briggs Th...  female  38.0   \n",
       "3                                       Heikkinen, Miss. Laina  female  26.0   \n",
       "4                 Futrelle, Mrs. Jacques Heath (Lily May Peel)  female  35.0   \n",
       "5                                     Allen, Mr. William Henry    male  35.0   \n",
       "6                                             Moran, Mr. James    male   NaN   \n",
       "7                                      McCarthy, Mr. Timothy J    male  54.0   \n",
       "8                               Palsson, Master. Gosta Leonard    male   2.0   \n",
       "9            Johnson, Mrs. Oscar W (Elisabeth Vilhelmina Berg)  female  27.0   \n",
       "10                         Nasser, Mrs. Nicholas (Adele Achem)  female  14.0   \n",
       "11                             Sandstrom, Miss. Marguerite Rut  female   4.0   \n",
       "12                                    Bonnell, Miss. Elizabeth  female  58.0   \n",
       "13                              Saundercock, Mr. William Henry    male  20.0   \n",
       "14                                 Andersson, Mr. Anders Johan    male  39.0   \n",
       "15                        Vestrom, Miss. Hulda Amanda Adolfina  female  14.0   \n",
       "16                            Hewlett, Mrs. (Mary D Kingcome)   female  55.0   \n",
       "17                                        Rice, Master. Eugene    male   2.0   \n",
       "18                                Williams, Mr. Charles Eugene    male   NaN   \n",
       "19           Vander Planke, Mrs. Julius (Emelia Maria Vande...  female  31.0   \n",
       "20                                     Masselmani, Mrs. Fatima  female   NaN   \n",
       "\n",
       "             SibSp  Parch            Ticket     Fare Cabin Embarked  \n",
       "PassengerId                                                          \n",
       "1                1      0         A/5 21171   7.2500   NaN        S  \n",
       "2                1      0          PC 17599  71.2833   C85        C  \n",
       "3                0      0  STON/O2. 3101282   7.9250   NaN        S  \n",
       "4                1      0            113803  53.1000  C123        S  \n",
       "5                0      0            373450   8.0500   NaN        S  \n",
       "6                0      0            330877   8.4583   NaN        Q  \n",
       "7                0      0             17463  51.8625   E46        S  \n",
       "8                3      1            349909  21.0750   NaN        S  \n",
       "9                0      2            347742  11.1333   NaN        S  \n",
       "10               1      0            237736  30.0708   NaN        C  \n",
       "11               1      1           PP 9549  16.7000    G6        S  \n",
       "12               0      0            113783  26.5500  C103        S  \n",
       "13               0      0         A/5. 2151   8.0500   NaN        S  \n",
       "14               1      5            347082  31.2750   NaN        S  \n",
       "15               0      0            350406   7.8542   NaN        S  \n",
       "16               0      0            248706  16.0000   NaN        S  \n",
       "17               4      1            382652  29.1250   NaN        Q  \n",
       "18               0      0            244373  13.0000   NaN        S  \n",
       "19               1      0            345763  18.0000   NaN        S  \n",
       "20               0      0              2649   7.2250   NaN        C  "
      ]
     },
     "execution_count": 7,
     "metadata": {},
     "output_type": "execute_result"
    }
   ],
   "source": [
    "#load data and look at the features\n",
    "titanic_df = pd.read_csv('~/Documents/Data_Science_Training/Kaggle_Projects/Titanic/train.csv',)\n",
    "\n",
    "df = deepcopy(titanic_df)\n",
    "\n",
    "#change index to passengerId\n",
    "df = df.set_index('PassengerId')\n",
    "\n",
    "df.head(20)"
   ]
  },
  {
   "cell_type": "markdown",
   "metadata": {},
   "source": [
    "### a. Describe Data"
   ]
  },
  {
   "cell_type": "code",
   "execution_count": 8,
   "metadata": {},
   "outputs": [
    {
     "name": "stdout",
     "output_type": "stream",
     "text": [
      "Number of passengers: 891\n",
      "Number of features: 11\n",
      "Number of passengers survived:  342\n",
      "Number of passengers did not survive:  549\n"
     ]
    },
    {
     "data": {
      "text/html": [
       "<div>\n",
       "<style scoped>\n",
       "    .dataframe tbody tr th:only-of-type {\n",
       "        vertical-align: middle;\n",
       "    }\n",
       "\n",
       "    .dataframe tbody tr th {\n",
       "        vertical-align: top;\n",
       "    }\n",
       "\n",
       "    .dataframe thead th {\n",
       "        text-align: right;\n",
       "    }\n",
       "</style>\n",
       "<table border=\"1\" class=\"dataframe\">\n",
       "  <thead>\n",
       "    <tr style=\"text-align: right;\">\n",
       "      <th></th>\n",
       "      <th>Survived</th>\n",
       "      <th>Pclass</th>\n",
       "      <th>Age</th>\n",
       "      <th>SibSp</th>\n",
       "      <th>Parch</th>\n",
       "      <th>Fare</th>\n",
       "    </tr>\n",
       "  </thead>\n",
       "  <tbody>\n",
       "    <tr>\n",
       "      <th>count</th>\n",
       "      <td>891.000000</td>\n",
       "      <td>891.000000</td>\n",
       "      <td>714.000000</td>\n",
       "      <td>891.000000</td>\n",
       "      <td>891.000000</td>\n",
       "      <td>891.000000</td>\n",
       "    </tr>\n",
       "    <tr>\n",
       "      <th>mean</th>\n",
       "      <td>0.383838</td>\n",
       "      <td>2.308642</td>\n",
       "      <td>29.699118</td>\n",
       "      <td>0.523008</td>\n",
       "      <td>0.381594</td>\n",
       "      <td>32.204208</td>\n",
       "    </tr>\n",
       "    <tr>\n",
       "      <th>std</th>\n",
       "      <td>0.486592</td>\n",
       "      <td>0.836071</td>\n",
       "      <td>14.526497</td>\n",
       "      <td>1.102743</td>\n",
       "      <td>0.806057</td>\n",
       "      <td>49.693429</td>\n",
       "    </tr>\n",
       "    <tr>\n",
       "      <th>min</th>\n",
       "      <td>0.000000</td>\n",
       "      <td>1.000000</td>\n",
       "      <td>0.420000</td>\n",
       "      <td>0.000000</td>\n",
       "      <td>0.000000</td>\n",
       "      <td>0.000000</td>\n",
       "    </tr>\n",
       "    <tr>\n",
       "      <th>25%</th>\n",
       "      <td>0.000000</td>\n",
       "      <td>2.000000</td>\n",
       "      <td>20.125000</td>\n",
       "      <td>0.000000</td>\n",
       "      <td>0.000000</td>\n",
       "      <td>7.910400</td>\n",
       "    </tr>\n",
       "    <tr>\n",
       "      <th>50%</th>\n",
       "      <td>0.000000</td>\n",
       "      <td>3.000000</td>\n",
       "      <td>28.000000</td>\n",
       "      <td>0.000000</td>\n",
       "      <td>0.000000</td>\n",
       "      <td>14.454200</td>\n",
       "    </tr>\n",
       "    <tr>\n",
       "      <th>75%</th>\n",
       "      <td>1.000000</td>\n",
       "      <td>3.000000</td>\n",
       "      <td>38.000000</td>\n",
       "      <td>1.000000</td>\n",
       "      <td>0.000000</td>\n",
       "      <td>31.000000</td>\n",
       "    </tr>\n",
       "    <tr>\n",
       "      <th>max</th>\n",
       "      <td>1.000000</td>\n",
       "      <td>3.000000</td>\n",
       "      <td>80.000000</td>\n",
       "      <td>8.000000</td>\n",
       "      <td>6.000000</td>\n",
       "      <td>512.329200</td>\n",
       "    </tr>\n",
       "  </tbody>\n",
       "</table>\n",
       "</div>"
      ],
      "text/plain": [
       "         Survived      Pclass         Age       SibSp       Parch        Fare\n",
       "count  891.000000  891.000000  714.000000  891.000000  891.000000  891.000000\n",
       "mean     0.383838    2.308642   29.699118    0.523008    0.381594   32.204208\n",
       "std      0.486592    0.836071   14.526497    1.102743    0.806057   49.693429\n",
       "min      0.000000    1.000000    0.420000    0.000000    0.000000    0.000000\n",
       "25%      0.000000    2.000000   20.125000    0.000000    0.000000    7.910400\n",
       "50%      0.000000    3.000000   28.000000    0.000000    0.000000   14.454200\n",
       "75%      1.000000    3.000000   38.000000    1.000000    0.000000   31.000000\n",
       "max      1.000000    3.000000   80.000000    8.000000    6.000000  512.329200"
      ]
     },
     "execution_count": 8,
     "metadata": {},
     "output_type": "execute_result"
    }
   ],
   "source": [
    "print('Number of passengers:',df.shape[0])\n",
    "print('Number of features:', df.shape[1])\n",
    "\n",
    "print('Number of passengers survived: ',str(sum(df['Survived'])))\n",
    "print('Number of passengers did not survive: ',str(sum(df['Survived']==0)))\n",
    "\n",
    "df.describe()"
   ]
  },
  {
   "cell_type": "markdown",
   "metadata": {},
   "source": [
    "### b. Missing Data Count\n"
   ]
  },
  {
   "cell_type": "code",
   "execution_count": 9,
   "metadata": {},
   "outputs": [
    {
     "name": "stdout",
     "output_type": "stream",
     "text": [
      "Survived      0\n",
      "Pclass        0\n",
      "Name          0\n",
      "Sex           0\n",
      "Age         177\n",
      "SibSp         0\n",
      "Parch         0\n",
      "Ticket        0\n",
      "Fare          0\n",
      "Cabin       687\n",
      "Embarked      2\n",
      "dtype: int64\n"
     ]
    }
   ],
   "source": [
    "#Count the number of missing values in the dataset\n",
    "print(df.isnull().sum())\n"
   ]
  },
  {
   "cell_type": "markdown",
   "metadata": {},
   "source": [
    "## 2. Create New Features\n",
    "\n",
    "Use existing features to create new features in the data."
   ]
  },
  {
   "cell_type": "markdown",
   "metadata": {},
   "source": [
    "### a. Family Size\n",
    "\n",
    "Having separate categories for Siblings and Spouses and Parents and Children is not as helpful.  Combine them into one column."
   ]
  },
  {
   "cell_type": "code",
   "execution_count": 10,
   "metadata": {},
   "outputs": [],
   "source": [
    "#Add SibSp and Parch to see if there is a relationship between family size and survivability.  \n",
    "\n",
    "def createFamSize(dataframe):\n",
    "    famsize = dataframe['Parch']+dataframe['SibSp']\n",
    "    dataframe['familySize'] = famsize\n",
    "\n",
    "createFamSize(df)"
   ]
  },
  {
   "cell_type": "markdown",
   "metadata": {},
   "source": [
    "### b. Is Alone\n",
    "It may be more useful to have a feature signifying if a person is traveling alone instead of the family size"
   ]
  },
  {
   "cell_type": "code",
   "execution_count": 11,
   "metadata": {},
   "outputs": [],
   "source": [
    "#create new categorical feature: is alone.  0 means with family and 1 means alone\n",
    "\n",
    "def createIsAlone(dataframe): \n",
    "    dataframe['isAlone'] = np.where(dataframe['familySize'] >= 1, 0, 1)\n",
    "\n",
    "createIsAlone(df)"
   ]
  },
  {
   "cell_type": "markdown",
   "metadata": {},
   "source": [
    "### c. Title \n",
    "Extract the title from the passenger's name.  The rare titles will be grouped together in a 'rare' category."
   ]
  },
  {
   "cell_type": "code",
   "execution_count": 12,
   "metadata": {},
   "outputs": [
    {
     "name": "stdout",
     "output_type": "stream",
     "text": [
      "Mr.        518\n",
      "Miss.      185\n",
      "Mrs.       127\n",
      "Master.     40\n",
      "Rare.       21\n",
      "Name: title, dtype: int64\n"
     ]
    }
   ],
   "source": [
    "# strip the title from their name and create new feature\n",
    "\n",
    "def createTitle(dataframe):\n",
    "    removeLastName = dataframe['Name'].str.split(',').str[1]\n",
    "    dataframe['title'] = removeLastName.str.split(' ').str[1]\n",
    "\n",
    "    # count unique titles\n",
    "    titles = dataframe['title'].value_counts()\n",
    "    #print(titles)\n",
    "\n",
    "    #update titles into rare category\n",
    "    dataframe['title'].replace(['Ms.','Mlle.'], 'Miss.', inplace = True)\n",
    "    dataframe['title'].replace(['Lady.','Mme.'], 'Mrs.', inplace = True)\n",
    "    dataframe['title'].replace(['Sir.'], 'Mr.', inplace = True)\n",
    "    #allowed titles\n",
    "    title_cats = ['Miss.', 'Mr.', 'Mrs.', 'Master.']\n",
    "\n",
    "    dataframe['title'].loc[~dataframe['title'].isin(title_cats)] = 'Rare.'\n",
    "\n",
    "    #check updated counts\n",
    "    print(dataframe['title'].value_counts())\n",
    "\n",
    "createTitle(df)"
   ]
  },
  {
   "cell_type": "markdown",
   "metadata": {},
   "source": [
    "## 3. Survivability Plots\n",
    "Create plots to look at relationships between survivability and the features.  From the data it looks like class, gender, and age will be important features in determining survivability. \n"
   ]
  },
  {
   "cell_type": "code",
   "execution_count": 13,
   "metadata": {},
   "outputs": [
    {
     "data": {
      "image/png": "[encoded data removed]",
      "text/plain": [
       "<matplotlib.figure.Figure at 0x1064234a8>"
      ]
     },
     "metadata": {},
     "output_type": "display_data"
    },
    {
     "data": {
      "image/png": "[encoded data removed]",
      "text/plain": [
       "<matplotlib.figure.Figure at 0x106408940>"
      ]
     },
     "metadata": {},
     "output_type": "display_data"
    },
    {
     "data": {
      "image/png": "[encoded data removed]",
      "text/plain": [
       "<matplotlib.figure.Figure at 0x1a0d28bba8>"
      ]
     },
     "metadata": {},
     "output_type": "display_data"
    },
    {
     "data": {
      "image/png": "[encoded data removed]",
      "text/plain": [
       "<matplotlib.figure.Figure at 0x1a0d2f9a58>"
      ]
     },
     "metadata": {},
     "output_type": "display_data"
    },
    {
     "data": {
      "image/png": "[encoded data removed]",
      "text/plain": [
       "<matplotlib.figure.Figure at 0x1a156fa320>"
      ]
     },
     "metadata": {},
     "output_type": "display_data"
    },
    {
     "data": {
      "image/png": "[encoded data removed]",
      "text/plain": [
       "<matplotlib.figure.Figure at 0x1a1580a390>"
      ]
     },
     "metadata": {},
     "output_type": "display_data"
    },
    {
     "data": {
      "image/png": "[encoded data removed]",
      "text/plain": [
       "<matplotlib.figure.Figure at 0x1a157f8e80>"
      ]
     },
     "metadata": {},
     "output_type": "display_data"
    }
   ],
   "source": [
    "#Visualize the data by survivability\n",
    "\n",
    "#first convert appropriate data into categorical\n",
    "df['Sex'] = pd.Categorical(df['Sex'], ordered= False)\n",
    "df['Embarked'] = pd.Categorical(df['Embarked'], ordered = False)\n",
    "df['Pclass'] = pd.Categorical(df['Pclass'], ordered = False)\n",
    "df['title'] = pd.Categorical(df['title'], ordered = False)\n",
    "\n",
    "cols = ['Pclass','Sex','Embarked', 'isAlone', 'title']\n",
    "for i in cols: \n",
    "    plt.rcParams['figure.figsize'] = [8, 6]\n",
    "    classSurv = df.groupby('Survived')[i].value_counts().sort_index(level=1,sort_remaining = True)\n",
    "    ax1 = plt.bar(classSurv[0].index,classSurv[0],color='b', alpha = 0.6, label='Did Not Survive(0)', bottom= classSurv[1],) \n",
    "    ax2 = plt.bar(classSurv[1].index,classSurv[1],color='r', alpha = 0.7, label='Survived(1) (%)') \n",
    "    if i == 'Pclass': \n",
    "        plt.xticks([1,2,3])\n",
    "    elif i == 'isAlone':\n",
    "        plt.xticks([0, 1])\n",
    "    percSurv = (( classSurv[1] / (classSurv[1]+classSurv[0]) ) )*100\n",
    "    percSurv = round(percSurv)\n",
    "    rects = ax2.patches\n",
    "    for rect, label in zip(rects, percSurv):\n",
    "        height = rect.get_height()\n",
    "        plt.text(rect.get_x() + rect.get_width() / 2, height + 5, label,\n",
    "            ha='center', va='bottom', color = 'k',size=15)\n",
    "    plt.title(i,size = 30)\n",
    "    plt.legend()\n",
    "    plt.show()\n",
    "\n",
    "#Create the plot to see % passengers survived based on family size \n",
    "famSurvSort = df.groupby('Survived')['familySize'].value_counts().sort_index(level=1,sort_remaining = True)\n",
    "famSurv = famSurvSort[0]+ famSurvSort[1]\n",
    "plt.bar(famSurv.index,famSurv, label = 'Did not Survive(0)',alpha = 0.6, color ='b')\n",
    "ax3 = plt.bar(famSurvSort[1].index,famSurvSort[1],color='r', alpha = 0.7, label='Survived (1)(%)') \n",
    "percFam = round(famSurvSort[1] / famSurv * 100)\n",
    "rects1 = ax3.patches\n",
    "for rect1, label in zip(rects1, percFam):\n",
    "    height = rect1.get_height()\n",
    "    plt.text(rect1.get_x() + rect1.get_width() / 2, height + 5, label,\n",
    "        ha='center', va='bottom', color = 'k',size=15)\n",
    "plt.title('Family Size', size=30)\n",
    "plt.legend()\n",
    "plt.show()\n",
    "\n",
    "\n",
    "#plt.figure()\n",
    "#by gender\n",
    "hist0, hist1 = df.groupby('Survived')['Age']\n",
    "agebins = range(0,80,5)\n",
    "ageSurv0 = hist0[1].values\n",
    "ageSurv0 = ageSurv0[np.isfinite(ageSurv0)]\n",
    "ageSurv1 = hist1[1].values[np.isfinite(hist1[1].values)]\n",
    "[ax4,bins,patches] = plt.hist([ageSurv1, ageSurv0], bins= agebins, stacked = True, alpha = 0.7, \n",
    "         label=['Survived(1)(%)', 'Did not Survive (0)'],color=['r','b'])\n",
    "#get the percentage\n",
    "percAge0 = np.histogram(ageSurv0,agebins)\n",
    "percAge1 = np.histogram(ageSurv1,agebins)\n",
    "percSurv = np.round( (percAge1[0] / (percAge0[0]+percAge1[0]) * 100),0) \n",
    "#get the height of patches\n",
    "for i in range(bins.shape[0]-1):\n",
    "    plt.text(bins[i],ax4[0][i],int(percSurv[i]),color = 'k',size=15 )\n",
    "#for rectA, label in zip(patches, percSurv):\n",
    "#    height = rectA.get_height()\n",
    "#    plt.text(rectA.get_x() + rectA.get_width() / 2, height + 5, label,\n",
    "#        ha='center', va='bottom', color = 'k',size=15)\n",
    "plt.legend()\n",
    "plt.title('Age',size=30)\n",
    "plt.show()"
   ]
  },
  {
   "cell_type": "markdown",
   "metadata": {},
   "source": [
    "## 4. Correlation coefficients"
   ]
  },
  {
   "cell_type": "code",
   "execution_count": 14,
   "metadata": {},
   "outputs": [
    {
     "data": {
      "text/plain": [
       "<matplotlib.axes._subplots.AxesSubplot at 0x106431748>"
      ]
     },
     "execution_count": 14,
     "metadata": {},
     "output_type": "execute_result"
    },
    {
     "data": {
      "image/png": "[encoded data removed]",
      "text/plain": [
       "<matplotlib.figure.Figure at 0x106431160>"
      ]
     },
     "metadata": {},
     "output_type": "display_data"
    }
   ],
   "source": [
    "#get the correlation coefficients for the data\n",
    "corrVals = df.corr(method='pearson')\n",
    "plt.rcParams['figure.figsize'] = [8, 6]\n",
    "sns.heatmap(corrVals, center = 0, cmap = 'coolwarm', annot = True)\n",
    "\n",
    "\n",
    "#sns.pairplot(df, hue= 'Survived', size = 2.5)\n",
    "#sns.factorplot('Survived','Age', data = df, kind = 'box')"
   ]
  },
  {
   "cell_type": "markdown",
   "metadata": {},
   "source": [
    "## 5. Missing Data \n",
    "### options for filling:\n",
    " 1. Remove those rows  (Ignoring this option)\n",
    " 2. Impute the values using mean, median, mode\n",
    " 3. Predict value using another model\n",
    " 4. Insert random value (ignoring this option)\n",
    "\n",
    "I will choose two of the options and compare the results to see which produces a better model.  The data description said that age was also estimated in some cases.  I will get a count to see how many of the passengers had an estimated age to make sure it isn't an overwhelming amount. \n",
    "\n",
    "Cabin has too many missing features and will be dropped from the data.  \n",
    "\n",
    "Embarked has two missing data points and will be imputed with the mode.  "
   ]
  },
  {
   "cell_type": "code",
   "execution_count": 15,
   "metadata": {},
   "outputs": [],
   "source": [
    "#impute embark with the mode:\n",
    "modeEm = df['Embarked'].mode()\n",
    "df['Embarked'] = df['Embarked'].fillna(modeEm[0])\n",
    "\n",
    "#check to make sure impute works\n",
    "assert( df['Embarked'].isnull().sum() == 0 )\n"
   ]
  },
  {
   "cell_type": "code",
   "execution_count": 16,
   "metadata": {
    "scrolled": true
   },
   "outputs": [
    {
     "name": "stdout",
     "output_type": "stream",
     "text": [
      "The percentage of estimated ages in the dataset:  0.0350140056022409 %\n"
     ]
    }
   ],
   "source": [
    "# The age data is estimated if it ends in 0.5\n",
    "# Count the number of estimated ages to see if it is large\n",
    "\n",
    "#create list of ages and remove NaN\n",
    "age_vals = df['Age'].dropna()\n",
    "\n",
    "estimated_age = [i for i in age_vals if i - int(i) != 0]\n",
    "print('The percentage of estimated ages in the dataset: ',str(len(estimated_age)/len(age_vals)),'%')\n",
    "\n",
    "#This is a small number so we will ignore this"
   ]
  },
  {
   "cell_type": "markdown",
   "metadata": {},
   "source": [
    "### a. Imputing mean age based on class,gender"
   ]
  },
  {
   "cell_type": "code",
   "execution_count": 17,
   "metadata": {},
   "outputs": [
    {
     "name": "stdout",
     "output_type": "stream",
     "text": [
      "Mean:\n",
      "Sex     Pclass\n",
      "female  1         34.611765\n",
      "        2         28.722973\n",
      "        3         21.750000\n",
      "male    1         41.281386\n",
      "        2         30.740707\n",
      "        3         26.507589\n",
      "Name: Age, dtype: float64\n"
     ]
    }
   ],
   "source": [
    "#Explore the mean age per class, per gender\n",
    "meanAge = df.groupby(['Sex','Pclass'])['Age'].mean()\n",
    "print('Mean:')\n",
    "print(meanAge)\n",
    "\n",
    "df['Age_mean'] = df['Age']\n",
    "\n",
    "#impute the mean based on class and gender\n",
    "df['Age_mean'] = df['Age_mean'].fillna(df.groupby(['Sex','Pclass'])['Age_mean'].transform('mean'))\n",
    "\n",
    "#verify NaN has been filled\n",
    "assert( df['Age_mean'].isnull().sum() == 0 )\n"
   ]
  },
  {
   "cell_type": "markdown",
   "metadata": {},
   "source": [
    "### b. Estimating age using KNN"
   ]
  },
  {
   "cell_type": "markdown",
   "metadata": {},
   "source": [
    " Before running any models the categorical data needs to be converted using one hot encoder"
   ]
  },
  {
   "cell_type": "code",
   "execution_count": 18,
   "metadata": {},
   "outputs": [
    {
     "data": {
      "text/plain": [
       "Index(['Survived', 'Pclass', 'Name', 'Sex', 'Age', 'SibSp', 'Parch', 'Ticket',\n",
       "       'Fare', 'Cabin', 'Embarked', 'familySize', 'isAlone', 'title',\n",
       "       'Age_mean', 'Pclass1', 'Pclass2', 'Pclass3', 'Sexfemale', 'Sexmale',\n",
       "       'EmbarkedC', 'EmbarkedQ', 'EmbarkedS', 'titleMaster.', 'titleMiss.',\n",
       "       'titleMr.', 'titleMrs.', 'titleRare.'],\n",
       "      dtype='object')"
      ]
     },
     "execution_count": 18,
     "metadata": {},
     "output_type": "execute_result"
    }
   ],
   "source": [
    "#first I need to use one hot encoder to convert categorical data\n",
    "##after I created this I discovered this could all be done with pd.get_dummies(df['Sex'])\n",
    "\n",
    "\n",
    "#create function to convert categorical data into binary array\n",
    "def catToBinary(X): \n",
    "    values = np.array(X)\n",
    "    # integer encode\n",
    "    label_encoder = LabelEncoder()\n",
    "    integer_encoded = label_encoder.fit_transform(values)\n",
    "    # binary encode\n",
    "    onehot_encoder = OneHotEncoder(sparse=False)\n",
    "    integer_encoded = integer_encoded.reshape(len(integer_encoded), 1)\n",
    "    onehot_encoded = onehot_encoder.fit_transform(integer_encoded)\n",
    "    #print(values[:10])\n",
    "    #print(onehot_encoded[:10,:])\n",
    "    #print(label_encoder.classes_)\n",
    "    return label_encoder.classes_, onehot_encoded\n",
    "\n",
    "\n",
    "#create function to make new features using one hot encoding\n",
    "#input variable is the categorical feature, (df['Pclass'])\n",
    "def createNewFeatures(catData, dataframe): \n",
    "    labels, encodedData = catToBinary(dataframe[catData])\n",
    "    len(dataframe[catData].unique())\n",
    "    assert( labels.shape[0] == len(dataframe[catData].unique() ) )\n",
    "    for idx, item in enumerate(labels) : \n",
    "        #make new feature\n",
    "        newFeatureName = (catData+str(item))\n",
    "        #print(newFeatureName)\n",
    "        dataframe[newFeatureName] = encodedData[:,idx]\n",
    "        #print(idx)\n",
    "\n",
    "catList = ['Pclass', 'Sex', 'Embarked', 'title' ]\n",
    "for cat in catList: \n",
    "    createNewFeatures(cat, df)\n",
    "df.columns\n",
    "\n",
    "#I don't know if Sex should be two columns so I will featurize it too\n",
    "#vectorizer = DictVectorizer( sparse = False )\n",
    "#df['Sex'] = vectorizer.fit_transform( df['Sex'],[0,1])\n",
    "\n"
   ]
  },
  {
   "cell_type": "markdown",
   "metadata": {},
   "source": [
    "Now that we have all of the categorical data ready for modeling we can estimate the age using KNN"
   ]
  },
  {
   "cell_type": "code",
   "execution_count": 19,
   "metadata": {
    "scrolled": true
   },
   "outputs": [
    {
     "name": "stdout",
     "output_type": "stream",
     "text": [
      "train size: (571, 12)\n",
      "test size:  (143, 12)\n",
      "Training Set Accuracy: 0.4135749652774283\n",
      "CV Test Set Accuracy: 0.19100212800945615\n"
     ]
    },
    {
     "data": {
      "image/png": "[encoded data removed]",
      "text/plain": [
       "<matplotlib.figure.Figure at 0x1a15d19a58>"
      ]
     },
     "metadata": {},
     "output_type": "display_data"
    },
    {
     "name": "stdout",
     "output_type": "stream",
     "text": [
      "(177,)\n"
     ]
    }
   ],
   "source": [
    "#create new column\n",
    "df['Age_KNN'] = df['Age']\n",
    "\n",
    "#separate the data into null values\n",
    "missVal = df['Age_KNN'].isnull()\n",
    "nonNull = df['Age_KNN'].notnull()\n",
    "\n",
    "varsKNN = ['SibSp','Parch','Fare',\n",
    "    'Pclass2','Pclass3',\n",
    "    'Sexfemale',\n",
    "    'EmbarkedC','EmbarkedQ', \n",
    "    'titleMiss.','titleMr.','titleMrs.','titleRare.']\n",
    "\n",
    "#create the x and y set \n",
    "xKNN = df[varsKNN][nonNull]\n",
    "yKNN = df['Age_KNN'][nonNull]\n",
    "\n",
    "#split into test and cross validation:\n",
    "x_kNNtrain, x_kNNtest, y_kNNtrain, y_kNNtest = train_test_split(xKNN, yKNN, test_size=0.2)\n",
    "print('train size:',x_kNNtrain.shape)\n",
    "print('test size: ',x_kNNtest.shape)\n",
    "\n",
    "#fit the data and predict the ages\n",
    "knreg = KNeighborsRegressor()\n",
    "knreg.fit(x_kNNtrain, y_kNNtrain)\n",
    "\n",
    "predAge = knreg.predict(df[varsKNN][missVal])\n",
    "\n",
    "print('Training Set Accuracy:',knreg.score(x_kNNtrain,y_kNNtrain))\n",
    "print('CV Test Set Accuracy:',knreg.score(x_kNNtest,y_kNNtest))\n",
    "\n",
    "#get the distribution of the predicted ages and compare to known ages\n",
    "df['Age_KNN'][missVal] = predAge\n",
    "plt.rcParams['figure.figsize'] = [8, 6]\n",
    "plt.hist(age_vals,bins=range(0,80,5),label='Known Ages')\n",
    "plt.hist(predAge,bins=range(0,80,5),label='KNN Estimated Ages')\n",
    "plt.legend()\n",
    "plt.xlabel('Age')\n",
    "plt.title('Distribution of predicted Ages by KNN')\n",
    "plt.show()\n",
    "\n",
    "print(predAge.shape)\n",
    "\n",
    "\n",
    "#R2 is a statistic that will give some information about the goodness of fit of a model. \n",
    "#In regression, the R2 coefficient of determination is a statistical measure of how well the \n",
    "#regression predictions approximate the real data points. An R2 of 1 indicates that \n",
    "#the regression predictions perfectly fit the data."
   ]
  },
  {
   "cell_type": "markdown",
   "metadata": {},
   "source": [
    "## Predict Survivors Using various Classifiers"
   ]
  },
  {
   "cell_type": "code",
   "execution_count": 47,
   "metadata": {},
   "outputs": [
    {
     "name": "stdout",
     "output_type": "stream",
     "text": [
      "Age: [29.31864272]\n",
      "Fare mean: [32.20420797]\n",
      "train size: (534, 31)\n",
      "test size:  (357, 31)\n"
     ]
    }
   ],
   "source": [
    "#Get the data ready by splitting into test and train sets, feature scale \n",
    "\n",
    "#feature scale the age:\n",
    "age_data = df['Age_mean'].values.reshape(-1, 1)\n",
    "scaler = StandardScaler().fit(age_data)\n",
    "print('Age:',scaler.mean_)\n",
    "df['Age_scaled'] = scaler.transform(age_data)\n",
    "\n",
    "#feature scale fare\n",
    "fare_data = df['Fare'].values.reshape(-1, 1)\n",
    "scalerF = StandardScaler().fit(fare_data)\n",
    "print('Fare mean:',scalerF.mean_)\n",
    "df['Fare_scaled'] = scaler.transform(fare_data)\n",
    "\n",
    "\n",
    "#split data into test and train set\n",
    "train, test = train_test_split(df, test_size=0.4, random_state = 22)\n",
    "#skf = StratifiedKFold(n_splits=2)\n",
    "#skf.get_n_splits(X, y)\n",
    "print('train size:',train.shape)\n",
    "print('test size: ',test.shape)\n",
    "\n",
    "allvars = ['Survived','SibSp', 'Parch',\n",
    "       'Fare', 'familySize', 'isAlone',\n",
    "       'Age_mean', 'Pclass1', 'Pclass2', 'Pclass3', 'Sexfemale', 'Sexmale',\n",
    "       'EmbarkedC', 'EmbarkedQ', 'EmbarkedS', 'titleMaster.', 'titleMiss.',\n",
    "       'titleMr.', 'titleMrs.', 'titleRare.', 'Age_KNN']\n",
    "\n",
    "#choose the variables to use \n",
    "varSelect = ['Fare', \n",
    "    'Pclass1','Pclass2','Pclass3',\n",
    "    'Sexfemale','Sexmale',\n",
    "    'titleMr.','titleMiss.','titleMaster.','titleMrs.','titleRare.']\n",
    "\n",
    "varSelectHot = ['Fare_scaled',\n",
    "             'Age_scaled',\n",
    "    'isAlone',\n",
    "    'Pclass2','Pclass3',\n",
    "    'Sexfemale',\n",
    "    'EmbarkedC','EmbarkedQ',\n",
    "    'titleMiss.','titleMaster.','titleMrs.','titleRare.']\n",
    "\n",
    "y_train = train['Survived']\n",
    "x_train = train[varSelect]\n",
    "\n",
    "y_cvtest = test['Survived']\n",
    "x_cvtest = test[varSelect]\n",
    "\n"
   ]
  },
  {
   "cell_type": "markdown",
   "metadata": {},
   "source": [
    "### 1. Logistic Regression"
   ]
  },
  {
   "cell_type": "code",
   "execution_count": 29,
   "metadata": {},
   "outputs": [
    {
     "name": "stdout",
     "output_type": "stream",
     "text": [
      "Poly Degree: 1\n",
      "Best Score: 0.8170144462279294\n",
      "Best Estimator: newton-cg\n",
      "20-fold cross validation average accuracy: 0.790\n",
      "Training Set Accuracy: 0.8394863563402889\n",
      "CV Test Set Accuracy: 0.7574626865671642\n",
      "Poly Degree: 2\n",
      "Best Score: 0.8154093097913323\n",
      "Best Estimator: newton-cg\n",
      "20-fold cross validation average accuracy: 0.810\n",
      "Training Set Accuracy: 0.8523274478330658\n",
      "CV Test Set Accuracy: 0.7873134328358209\n"
     ]
    }
   ],
   "source": [
    " #Used LogRegCV from sklearn, which automatically selects best value of C\n",
    "\n",
    "#using logistic regression from sklearn\n",
    "def logisticReg(x,y): \n",
    "    logisticRegr = LogisticRegressionCV(max_iter = 15000)\n",
    "    parameters = {'solver':('newton-cg', 'lbfgs', 'liblinear', 'sag')}\n",
    "    grid = GridSearchCV(logisticRegr, parameters)\n",
    "    grid.fit(x, y)\n",
    "    \n",
    "    # summarize the results of the grid search\n",
    "    print('Best Score:', grid.best_score_)\n",
    "    print('Best Estimator:', grid.best_estimator_.solver)\n",
    "\n",
    "    return grid\n",
    "\n",
    "def addpoly(x_train,y_train,x_cvtest,y_cvtest,poly_deg): \n",
    "    poly = PolynomialFeatures(poly_deg,include_bias=False)\n",
    "    x_trainPoly = poly.fit_transform(x_train)\n",
    "    x_testPoly = poly.fit_transform(x_cvtest)\n",
    "\n",
    "    grid = logisticReg(x_trainPoly,y_train)\n",
    "    \n",
    "    return grid, x_trainPoly, x_testPoly, poly\n",
    "\n",
    "\n",
    "poly_degree = range(1,4)\n",
    "\n",
    "for i in poly_degree:\n",
    "    print('Poly Degree:',i)\n",
    "    grid, x_trainPoly, x_testPoly, poly = addpoly(x_train,y_train,x_cvtest,y_cvtest,i)\n",
    "    \n",
    "    kfold = model_selection.KFold(n_splits=20, random_state=7)\n",
    "    scoring = 'accuracy'\n",
    "    results = model_selection.cross_val_score(LogisticRegressionCV(solver = grid.best_estimator_.solver), \n",
    "                                    poly.fit_transform(df[varSelect]), df['Survived'],\n",
    "                                          cv=kfold, scoring=scoring)\n",
    "    print(\"20-fold cross validation average accuracy: %.3f\" % (results.mean()))\n",
    "    \n",
    "    print('Training Set Accuracy:',grid.score(x_trainPoly,y_train))\n",
    "    print('CV Test Set Accuracy:',grid.score(x_testPoly,y_cvtest))\n",
    "  "
   ]
  },
  {
   "cell_type": "code",
   "execution_count": 24,
   "metadata": {},
   "outputs": [],
   "source": [
    "## Calculate the confustion matrix and the precision/recall\n",
    "\n",
    "def confusionMatrix(model): \n",
    "    from sklearn.metrics import confusion_matrix\n",
    "    y_pred = model.predict(x_cvtest)\n",
    "\n",
    "    confusion_matrix = confusion_matrix(y_cvtest, y_pred)\n",
    "    print('True Negative, False Positive')\n",
    "    print(confusion_matrix)\n",
    "    print('False Negative, True Positive')\n",
    "    print()\n",
    "\n",
    "    from sklearn.metrics import classification_report\n",
    "\n",
    "    print(classification_report(y_cvtest, y_pred))\n",
    "\n",
    "#precision = true pos/true pos+false pos\n",
    "#recall is the ability of the classifier to find all the positive samples. tp/tp+fn"
   ]
  },
  {
   "cell_type": "markdown",
   "metadata": {},
   "source": [
    "### 2. SVM "
   ]
  },
  {
   "cell_type": "code",
   "execution_count": 30,
   "metadata": {
    "scrolled": true
   },
   "outputs": [
    {
     "name": "stdout",
     "output_type": "stream",
     "text": [
      "0.8186195826645265\n",
      "linear\n",
      "1\n",
      "CV Test Set Accuracy: 0.7350746268656716\n",
      "20-fold cross validation average accuracy: 0.791\n"
     ]
    }
   ],
   "source": [
    "svc_model = SVC()\n",
    "parameter_candidates = {'kernel':('linear', 'sigmoid'), 'C' : [1,10, 100]}\n",
    "gridSVC = GridSearchCV(svc_model, parameter_candidates)\n",
    "gridSVC.fit(x_train, y_train)\n",
    "\n",
    "# summarize the results of the grid search\n",
    "print(gridSVC.best_score_)\n",
    "print(gridSVC.best_estimator_.kernel)\n",
    "print(gridSVC.best_estimator_.C)\n",
    "print('CV Test Set Accuracy:',gridSVC.score(x_cvtest,y_cvtest))\n",
    "\n",
    "\n",
    "kfold = model_selection.KFold(n_splits=20, random_state=7)\n",
    "scoring = 'accuracy'\n",
    "results = model_selection.cross_val_score(SVC(kernel= str(gridSVC.best_estimator_.kernel), \n",
    "                C = gridSVC.best_estimator_.C), df[varSelect], df['Survived'],\n",
    "                cv=kfold, scoring=scoring)\n",
    "print(\"20-fold cross validation average accuracy: %.3f\" % (results.mean()))"
   ]
  },
  {
   "cell_type": "markdown",
   "metadata": {},
   "source": [
    "### 3. Random Forest"
   ]
  },
  {
   "cell_type": "code",
   "execution_count": 48,
   "metadata": {},
   "outputs": [
    {
     "name": "stdout",
     "output_type": "stream",
     "text": [
      "Best Score: 0.8558052434456929\n",
      "Best Estimator: 200\n",
      "max_depth 10\n",
      "min_samples_leaf 4\n",
      "min_samples_split 10\n"
     ]
    }
   ],
   "source": [
    "#With the low score for logistic regression moved on to Random Forest based on suggestion online\n",
    "random_forest = RandomForestClassifier(oob_score = True, bootstrap = True, max_features = len(varSelect)) \n",
    "parameter_cands = {'max_depth': [10, 20, 40, None],\n",
    " 'min_samples_leaf': [1, 2, 4, 10],\n",
    " 'min_samples_split': [2, 5, 10, 15],\n",
    " 'n_estimators': [200, 300, 400],  \n",
    "            }\n",
    "gridRF = GridSearchCV(random_forest, parameter_cands)\n",
    "#gridRF.fit(df[varSelect], df['Survived'])\n",
    "gridRF.fit(x_train,y_train)\n",
    "\n",
    "# summarize the results of the grid search\n",
    "print('Best Score:', gridRF.best_score_)\n",
    "print('Best Estimator:', gridRF.best_estimator_.n_estimators)\n",
    "print('max_depth', gridRF.best_estimator_.max_depth)\n",
    "print('min_samples_leaf', gridRF.best_estimator_.min_samples_leaf)\n",
    "print('min_samples_split', gridRF.best_estimator_.min_samples_split)\n",
    "\n",
    "\n",
    "#print('Training Set Accuracy:',gridRF.score(x_train, y_train))\n",
    "#print('CV Test Set Accuracy:',gridRF.score(x_cvtest,y_cvtest))"
   ]
  },
  {
   "cell_type": "code",
   "execution_count": 49,
   "metadata": {},
   "outputs": [
    {
     "name": "stdout",
     "output_type": "stream",
     "text": [
      "[0.28620263 0.02424507 0.00389491 0.09457733 0.09673281 0.07644003\n",
      " 0.35202933 0.00542523 0.01418459 0.00167255 0.04459553]\n",
      "CV Test Set Accuracy: 0.8151260504201681\n",
      "20-fold cross validation average accuracy: 0.855\n"
     ]
    }
   ],
   "source": [
    "random_forestT = RandomForestClassifier( \n",
    "    max_depth = gridRF.best_estimator_.max_depth,\n",
    "     min_samples_leaf = gridRF.best_estimator_.min_samples_leaf,\n",
    "     min_samples_split = gridRF.best_estimator_.min_samples_split,\n",
    "     n_estimators = gridRF.best_estimator_.n_estimators,  \n",
    "        max_features = len(varSelect) \n",
    "        ) \n",
    "\n",
    "random_forestT.fit(x_train, y_train)\n",
    "\n",
    "\n",
    "print(random_forestT.feature_importances_)\n",
    "\n",
    "print('CV Test Set Accuracy:',random_forestT.score(x_cvtest,y_cvtest))\n",
    "\n",
    "kfold = model_selection.KFold(n_splits=20, random_state=7)\n",
    "scoring = 'accuracy'\n",
    "results = model_selection.cross_val_score(random_forestT, df[varSelect], df['Survived'],\n",
    "                cv=kfold, scoring=scoring)\n",
    "print(\"20-fold cross validation average accuracy: %.3f\" % (results.mean()))"
   ]
  },
  {
   "cell_type": "markdown",
   "metadata": {},
   "source": [
    "### 4. Neural Network"
   ]
  },
  {
   "cell_type": "code",
   "execution_count": 32,
   "metadata": {},
   "outputs": [
    {
     "name": "stdout",
     "output_type": "stream",
     "text": [
      "Best Score: 0.8170144462279294\n",
      "Best Solver: adam\n",
      "alpha 0.001\n",
      "hidden_layer_sizes 100\n",
      "max_iter 400\n",
      "activation relu\n",
      "CV Test Set Accuracy: 0.7873134328358209\n"
     ]
    }
   ],
   "source": [
    "clf = MLPClassifier()\n",
    "parameterNN = {'solver': ('lbfgs', 'sgd', 'adam' ),\n",
    " 'alpha': [0.0001, 0.001],\n",
    " 'hidden_layer_sizes': [100, 200, 300],\n",
    " 'max_iter': [300, 400], \n",
    "  'activation': ('logistic', 'relu')                }\n",
    "gridNN = GridSearchCV(clf, parameterNN)\n",
    "gridNN.fit(x_train, y_train)\n",
    "\n",
    "print('Best Score:', gridNN.best_score_)\n",
    "print('Best Solver:', gridNN.best_estimator_.solver)\n",
    "print('alpha', gridNN.best_estimator_.alpha)\n",
    "print('hidden_layer_sizes', gridNN.best_estimator_.hidden_layer_sizes)\n",
    "print('max_iter', gridNN.best_estimator_.max_iter)\n",
    "print('activation', gridNN.best_estimator_.activation)\n",
    "\n",
    "#print('Training Set Accuracy:',clf.score(x_train,y_train))\n",
    "print('CV Test Set Accuracy:',gridNN.score(x_cvtest,y_cvtest))\n"
   ]
  },
  {
   "cell_type": "code",
   "execution_count": null,
   "metadata": {},
   "outputs": [],
   "source": [
    "clfN = MLPClassifier(\n",
    "solver = gridNN.best_estimator_.solver,\n",
    "alpha =  gridNN.best_estimator_.alpha,\n",
    "hidden_layer_sizes =  gridNN.best_estimator_.hidden_layer_sizes,\n",
    "max_iter =  gridNN.best_estimator_.max_iter, \n",
    "activation = str(gridNN.best_estimator_.activation)    \n",
    ")\n",
    "\n",
    "clfN.fit(x_train, y_train)\n",
    "\n",
    "kfold = model_selection.KFold(n_splits=20, random_state=7)\n",
    "scoring = 'accuracy'\n",
    "results = model_selection.cross_val_score(clfN, df[varSelectHot], df['Survived'],\n",
    "                cv=kfold, scoring=scoring)\n",
    "print(\"20-fold cross validation average accuracy: %.3f\" % (results.mean()))"
   ]
  },
  {
   "cell_type": "markdown",
   "metadata": {},
   "source": [
    "## Run Model for Contest"
   ]
  },
  {
   "cell_type": "code",
   "execution_count": 42,
   "metadata": {},
   "outputs": [
    {
     "name": "stdout",
     "output_type": "stream",
     "text": [
      "(418, 11)\n",
      "Pclass        0\n",
      "Name          0\n",
      "Sex           0\n",
      "Age          86\n",
      "SibSp         0\n",
      "Parch         0\n",
      "Ticket        0\n",
      "Fare          1\n",
      "Cabin       327\n",
      "Embarked      0\n",
      "dtype: int64\n"
     ]
    }
   ],
   "source": [
    "kaggle_df = pd.read_csv('~/Documents/Data_Science_Training/Kaggle_Projects/Titanic/test.csv',)\n",
    "print(kaggle_df.shape)\n",
    "\n",
    "#change index to passengerId\n",
    "kaggle_df = kaggle_df.set_index('PassengerId')\n",
    "\n",
    "kaggle_df.head()\n",
    "#Count the number of missing values in the dataset\n",
    "print(kaggle_df.isnull().sum())\n"
   ]
  },
  {
   "cell_type": "markdown",
   "metadata": {},
   "source": [
    "### Do the same feature modification"
   ]
  },
  {
   "cell_type": "code",
   "execution_count": 43,
   "metadata": {},
   "outputs": [
    {
     "name": "stdout",
     "output_type": "stream",
     "text": [
      "Mr.        240\n",
      "Miss.       79\n",
      "Mrs.        72\n",
      "Master.     21\n",
      "Rare.        6\n",
      "Name: title, dtype: int64\n"
     ]
    }
   ],
   "source": [
    "createFamSize(kaggle_df)\n",
    "createIsAlone(kaggle_df)\n",
    "createTitle(kaggle_df)\n",
    "\n",
    "#impute embark with the mode:\n",
    "meanFare = kaggle_df['Fare'].mean()\n",
    "kaggle_df['Fare'] = kaggle_df['Fare'].fillna(meanFare)\n",
    "\n",
    "#check to make sure impute works\n",
    "assert( kaggle_df['Fare'].isnull().sum() == 0 )\n",
    "\n",
    "kaggle_df['Age_mean'] = kaggle_df['Age']\n",
    "\n",
    "#impute the mean based on class and gender\n",
    "kaggle_df['Age_mean'] = kaggle_df['Age_mean'].fillna(kaggle_df.groupby(['Sex','Pclass'])['Age_mean'].transform('mean'))\n",
    "\n",
    "#verify NaN has been filled\n",
    "assert( kaggle_df['Age_mean'].isnull().sum() == 0 )\n"
   ]
  },
  {
   "cell_type": "code",
   "execution_count": 44,
   "metadata": {},
   "outputs": [
    {
     "data": {
      "text/html": [
       "<div>\n",
       "<style scoped>\n",
       "    .dataframe tbody tr th:only-of-type {\n",
       "        vertical-align: middle;\n",
       "    }\n",
       "\n",
       "    .dataframe tbody tr th {\n",
       "        vertical-align: top;\n",
       "    }\n",
       "\n",
       "    .dataframe thead th {\n",
       "        text-align: right;\n",
       "    }\n",
       "</style>\n",
       "<table border=\"1\" class=\"dataframe\">\n",
       "  <thead>\n",
       "    <tr style=\"text-align: right;\">\n",
       "      <th></th>\n",
       "      <th>Pclass</th>\n",
       "      <th>Name</th>\n",
       "      <th>Sex</th>\n",
       "      <th>Age</th>\n",
       "      <th>SibSp</th>\n",
       "      <th>Parch</th>\n",
       "      <th>Ticket</th>\n",
       "      <th>Fare</th>\n",
       "      <th>Cabin</th>\n",
       "      <th>Embarked</th>\n",
       "      <th>...</th>\n",
       "      <th>Sexfemale</th>\n",
       "      <th>Sexmale</th>\n",
       "      <th>EmbarkedC</th>\n",
       "      <th>EmbarkedQ</th>\n",
       "      <th>EmbarkedS</th>\n",
       "      <th>titleMaster.</th>\n",
       "      <th>titleMiss.</th>\n",
       "      <th>titleMr.</th>\n",
       "      <th>titleMrs.</th>\n",
       "      <th>titleRare.</th>\n",
       "    </tr>\n",
       "    <tr>\n",
       "      <th>PassengerId</th>\n",
       "      <th></th>\n",
       "      <th></th>\n",
       "      <th></th>\n",
       "      <th></th>\n",
       "      <th></th>\n",
       "      <th></th>\n",
       "      <th></th>\n",
       "      <th></th>\n",
       "      <th></th>\n",
       "      <th></th>\n",
       "      <th></th>\n",
       "      <th></th>\n",
       "      <th></th>\n",
       "      <th></th>\n",
       "      <th></th>\n",
       "      <th></th>\n",
       "      <th></th>\n",
       "      <th></th>\n",
       "      <th></th>\n",
       "      <th></th>\n",
       "      <th></th>\n",
       "    </tr>\n",
       "  </thead>\n",
       "  <tbody>\n",
       "    <tr>\n",
       "      <th>892</th>\n",
       "      <td>3</td>\n",
       "      <td>Kelly, Mr. James</td>\n",
       "      <td>male</td>\n",
       "      <td>34.5</td>\n",
       "      <td>0</td>\n",
       "      <td>0</td>\n",
       "      <td>330911</td>\n",
       "      <td>7.8292</td>\n",
       "      <td>NaN</td>\n",
       "      <td>Q</td>\n",
       "      <td>...</td>\n",
       "      <td>0.0</td>\n",
       "      <td>1.0</td>\n",
       "      <td>0.0</td>\n",
       "      <td>1.0</td>\n",
       "      <td>0.0</td>\n",
       "      <td>0.0</td>\n",
       "      <td>0.0</td>\n",
       "      <td>1.0</td>\n",
       "      <td>0.0</td>\n",
       "      <td>0.0</td>\n",
       "    </tr>\n",
       "    <tr>\n",
       "      <th>893</th>\n",
       "      <td>3</td>\n",
       "      <td>Wilkes, Mrs. James (Ellen Needs)</td>\n",
       "      <td>female</td>\n",
       "      <td>47.0</td>\n",
       "      <td>1</td>\n",
       "      <td>0</td>\n",
       "      <td>363272</td>\n",
       "      <td>7.0000</td>\n",
       "      <td>NaN</td>\n",
       "      <td>S</td>\n",
       "      <td>...</td>\n",
       "      <td>1.0</td>\n",
       "      <td>0.0</td>\n",
       "      <td>0.0</td>\n",
       "      <td>0.0</td>\n",
       "      <td>1.0</td>\n",
       "      <td>0.0</td>\n",
       "      <td>0.0</td>\n",
       "      <td>0.0</td>\n",
       "      <td>1.0</td>\n",
       "      <td>0.0</td>\n",
       "    </tr>\n",
       "    <tr>\n",
       "      <th>894</th>\n",
       "      <td>2</td>\n",
       "      <td>Myles, Mr. Thomas Francis</td>\n",
       "      <td>male</td>\n",
       "      <td>62.0</td>\n",
       "      <td>0</td>\n",
       "      <td>0</td>\n",
       "      <td>240276</td>\n",
       "      <td>9.6875</td>\n",
       "      <td>NaN</td>\n",
       "      <td>Q</td>\n",
       "      <td>...</td>\n",
       "      <td>0.0</td>\n",
       "      <td>1.0</td>\n",
       "      <td>0.0</td>\n",
       "      <td>1.0</td>\n",
       "      <td>0.0</td>\n",
       "      <td>0.0</td>\n",
       "      <td>0.0</td>\n",
       "      <td>1.0</td>\n",
       "      <td>0.0</td>\n",
       "      <td>0.0</td>\n",
       "    </tr>\n",
       "    <tr>\n",
       "      <th>895</th>\n",
       "      <td>3</td>\n",
       "      <td>Wirz, Mr. Albert</td>\n",
       "      <td>male</td>\n",
       "      <td>27.0</td>\n",
       "      <td>0</td>\n",
       "      <td>0</td>\n",
       "      <td>315154</td>\n",
       "      <td>8.6625</td>\n",
       "      <td>NaN</td>\n",
       "      <td>S</td>\n",
       "      <td>...</td>\n",
       "      <td>0.0</td>\n",
       "      <td>1.0</td>\n",
       "      <td>0.0</td>\n",
       "      <td>0.0</td>\n",
       "      <td>1.0</td>\n",
       "      <td>0.0</td>\n",
       "      <td>0.0</td>\n",
       "      <td>1.0</td>\n",
       "      <td>0.0</td>\n",
       "      <td>0.0</td>\n",
       "    </tr>\n",
       "    <tr>\n",
       "      <th>896</th>\n",
       "      <td>3</td>\n",
       "      <td>Hirvonen, Mrs. Alexander (Helga E Lindqvist)</td>\n",
       "      <td>female</td>\n",
       "      <td>22.0</td>\n",
       "      <td>1</td>\n",
       "      <td>1</td>\n",
       "      <td>3101298</td>\n",
       "      <td>12.2875</td>\n",
       "      <td>NaN</td>\n",
       "      <td>S</td>\n",
       "      <td>...</td>\n",
       "      <td>1.0</td>\n",
       "      <td>0.0</td>\n",
       "      <td>0.0</td>\n",
       "      <td>0.0</td>\n",
       "      <td>1.0</td>\n",
       "      <td>0.0</td>\n",
       "      <td>0.0</td>\n",
       "      <td>0.0</td>\n",
       "      <td>1.0</td>\n",
       "      <td>0.0</td>\n",
       "    </tr>\n",
       "  </tbody>\n",
       "</table>\n",
       "<p>5 rows × 27 columns</p>\n",
       "</div>"
      ],
      "text/plain": [
       "             Pclass                                          Name     Sex  \\\n",
       "PassengerId                                                                 \n",
       "892               3                              Kelly, Mr. James    male   \n",
       "893               3              Wilkes, Mrs. James (Ellen Needs)  female   \n",
       "894               2                     Myles, Mr. Thomas Francis    male   \n",
       "895               3                              Wirz, Mr. Albert    male   \n",
       "896               3  Hirvonen, Mrs. Alexander (Helga E Lindqvist)  female   \n",
       "\n",
       "              Age  SibSp  Parch   Ticket     Fare Cabin Embarked     ...      \\\n",
       "PassengerId                                                          ...       \n",
       "892          34.5      0      0   330911   7.8292   NaN        Q     ...       \n",
       "893          47.0      1      0   363272   7.0000   NaN        S     ...       \n",
       "894          62.0      0      0   240276   9.6875   NaN        Q     ...       \n",
       "895          27.0      0      0   315154   8.6625   NaN        S     ...       \n",
       "896          22.0      1      1  3101298  12.2875   NaN        S     ...       \n",
       "\n",
       "             Sexfemale  Sexmale EmbarkedC  EmbarkedQ  EmbarkedS  titleMaster.  \\\n",
       "PassengerId                                                                     \n",
       "892                0.0      1.0       0.0        1.0        0.0           0.0   \n",
       "893                1.0      0.0       0.0        0.0        1.0           0.0   \n",
       "894                0.0      1.0       0.0        1.0        0.0           0.0   \n",
       "895                0.0      1.0       0.0        0.0        1.0           0.0   \n",
       "896                1.0      0.0       0.0        0.0        1.0           0.0   \n",
       "\n",
       "             titleMiss.  titleMr.  titleMrs.  titleRare.  \n",
       "PassengerId                                               \n",
       "892                 0.0       1.0        0.0         0.0  \n",
       "893                 0.0       0.0        1.0         0.0  \n",
       "894                 0.0       1.0        0.0         0.0  \n",
       "895                 0.0       1.0        0.0         0.0  \n",
       "896                 0.0       0.0        1.0         0.0  \n",
       "\n",
       "[5 rows x 27 columns]"
      ]
     },
     "execution_count": 44,
     "metadata": {},
     "output_type": "execute_result"
    }
   ],
   "source": [
    "kcatList = ['Pclass', 'Sex', 'Embarked', 'title' ]\n",
    "for kcat in kcatList: \n",
    "    createNewFeatures(kcat, kaggle_df)\n",
    "\n",
    "kaggle_df.head()\n",
    "\n"
   ]
  },
  {
   "cell_type": "code",
   "execution_count": 50,
   "metadata": {
    "scrolled": true
   },
   "outputs": [
    {
     "name": "stdout",
     "output_type": "stream",
     "text": [
      "[0 1 0 0 1 0 1 0 1 0 0 0 1 0 1 1 0 0 1 1 0 1 1 0 1 0 1 0 1 0 0 0 1 0 1 0 0\n",
      " 0 0 0 0 1 0 1 1 0 1 0 1 1 0 0 1 1 0 0 0 0 0 1 0 0 0 1 1 1 1 0 0 1 1 0 1 0\n",
      " 1 0 0 1 0 1 1 0 0 0 0 0 1 0 1 1 1 0 1 0 0 0 1 0 1 0 1 0 0 0 0 0 0 0 0 0 0\n",
      " 1 1 1 1 0 0 1 0 1 1 0 1 0 0 1 0 0 0 0 0 0 0 0 0 0 0 0 0 0 0 1 0 0 1 0 0 0\n",
      " 1 0 1 0 0 1 0 0 1 1 1 1 1 1 1 0 0 1 0 0 1 0 0 0 0 0 0 1 1 1 1 1 0 0 1 0 1\n",
      " 0 1 0 0 0 0 0 1 0 1 0 1 1 0 0 1 1 0 1 0 0 1 0 1 0 0 0 0 1 1 0 1 0 1 0 1 0\n",
      " 1 0 1 1 0 1 0 0 0 1 0 0 0 0 0 0 1 1 1 1 0 0 0 0 1 0 1 1 1 0 0 0 0 0 0 0 1\n",
      " 0 0 0 1 1 0 0 0 0 0 0 0 0 1 1 0 1 0 0 0 0 0 1 1 1 1 0 0 0 0 0 0 1 0 0 0 0\n",
      " 1 0 0 0 0 0 0 0 1 1 0 1 1 1 0 0 0 1 1 1 0 0 0 0 0 0 0 1 1 0 1 0 0 0 1 1 0\n",
      " 1 0 0 0 0 0 1 0 0 0 1 1 1 0 1 0 1 1 0 0 0 1 0 1 0 0 1 0 1 1 0 1 0 0 0 1 0\n",
      " 0 1 0 0 1 1 0 0 0 0 0 0 1 1 0 1 0 0 0 0 1 1 1 0 0 1 0 1 0 0 1 0 1 0 0 0 0\n",
      " 0 1 1 1 1 1 0 0 0 0 1]\n"
     ]
    }
   ],
   "source": [
    "#make predictions with my random forest trained above\n",
    "\n",
    "pred = random_forestT.predict(kaggle_df[varSelect])\n",
    "print(pred)"
   ]
  },
  {
   "cell_type": "code",
   "execution_count": 51,
   "metadata": {},
   "outputs": [
    {
     "name": "stdout",
     "output_type": "stream",
     "text": [
      "Exported\n"
     ]
    }
   ],
   "source": [
    "ksubmission = pd.DataFrame({\n",
    "        \"Survived\": pred\n",
    "    }, index = kaggle_df.index)\n",
    "ksubmission.head()\n",
    "\n",
    "ksubmission.to_csv('titanic.csv')\n",
    "print('Exported')"
   ]
  },
  {
   "cell_type": "code",
   "execution_count": null,
   "metadata": {},
   "outputs": [],
   "source": []
  }
 ],
 "metadata": {
  "kernelspec": {
   "display_name": "Python 3",
   "language": "python",
   "name": "python3"
  },
  "language_info": {
   "codemirror_mode": {
    "name": "ipython",
    "version": 3
   },
   "file_extension": ".py",
   "mimetype": "text/x-python",
   "name": "python",
   "nbconvert_exporter": "python",
   "pygments_lexer": "ipython3",
   "version": "3.6.4"
  }
 },
 "nbformat": 4,
 "nbformat_minor": 2
}
